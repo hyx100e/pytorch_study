{
 "cells": [
  {
   "cell_type": "markdown",
   "metadata": {},
   "source": [
    "回归 每个时间点的输出 sin cos"
   ]
  },
  {
   "cell_type": "code",
   "execution_count": 4,
   "metadata": {},
   "outputs": [],
   "source": [
    "import torch\n",
    "from torch.autograd import Variable\n",
    "import torch.nn as nn\n",
    "import torch.utils.data as Data\n",
    "import torch.nn.functional as F\n",
    "import torchvision\n",
    "import matplotlib.pyplot as plt\n",
    "import numpy as np"
   ]
  },
  {
   "cell_type": "code",
   "execution_count": 3,
   "metadata": {},
   "outputs": [],
   "source": [
    "torch.manual_seed(1)\n",
    "#hyper Parameters\n",
    "TIME_STEP = 10\n",
    "INPUT_SIZE = 1\n",
    "LR = 0.01"
   ]
  },
  {
   "cell_type": "code",
   "execution_count": 7,
   "metadata": {},
   "outputs": [
    {
     "data": {
      "image/png": "[encoded data removed]",
      "text/plain": [
       "<Figure size 432x288 with 1 Axes>"
      ]
     },
     "metadata": {},
     "output_type": "display_data"
    }
   ],
   "source": [
    "steps  =np.linspace(0,np.pi*2,100,dtype=np.float32)\n",
    "x_np = np.sin(steps)\n",
    "y_np = np.cos(steps)\n",
    "plt.plot(steps,y_np,'r',label='target cos')\n",
    "plt.plot(steps,x_np,'b',label='input sin')\n",
    "plt.legend(loc='best')\n",
    "plt.show()"
   ]
  },
  {
   "cell_type": "code",
   "execution_count": 11,
   "metadata": {},
   "outputs": [
    {
     "name": "stdout",
     "output_type": "stream",
     "text": [
      "RNN(\n",
      "  (rnn): RNN(1, 32, batch_first=True)\n",
      "  (out): Linear(in_features=32, out_features=1, bias=True)\n",
      ")\n"
     ]
    }
   ],
   "source": [
    "class RNN(nn.Module):\n",
    "    def __init__(self):\n",
    "        super(RNN,self).__init__()\n",
    "        self.rnn=nn.RNN(\n",
    "            input_size = INPUT_SIZE,\n",
    "            hidden_size = 32,\n",
    "            num_layers = 1,\n",
    "            batch_first = True\n",
    "        )\n",
    "        self.out =nn.Linear(32,1)\n",
    "    def forward(self,x,h_state):\n",
    "        #x (batch,time_step,input_size)\n",
    "        #h_state (n_layers,batch,hidden_size)\n",
    "        #r_out (batch,time_step,output_size)\n",
    "        r_out,h_state = self.rnn(x,h_state)\n",
    "        outs = []\n",
    "        for time_step in range(r_out.size(1)):\n",
    "            outs.append(self.out(r_out[:,time_step,:]))\n",
    "        return torch.stack(outs,dim=1),h_state\n",
    "rnn=RNN()\n",
    "print(rnn)\n",
    "        "
   ]
  },
  {
   "cell_type": "code",
   "execution_count": 13,
   "metadata": {},
   "outputs": [
    {
     "name": "stdout",
     "output_type": "stream",
     "text": [
      "0.39431486\n",
      "0.15622103\n",
      "0.049675517\n",
      "0.03738152\n",
      "0.014348892\n",
      "0.0030836295\n"
     ]
    }
   ],
   "source": [
    "optimizer = torch.optim.Adam(rnn.parameters(),lr=LR)\n",
    "loss_func = nn.MSELoss()\n",
    "h_state = None\n",
    "for step in range(60):\n",
    "    start,end = step*np.pi,(step+1)*np.pi\n",
    "    steps = np.linspace(start,end,TIME_STEP,dtype=np.float32)\n",
    "    x_np = np.sin(steps)\n",
    "    y_np = np.cos(steps)\n",
    "    \n",
    "    x = torch.from_numpy(x_np[np.newaxis, :, np.newaxis])    # shape (batch, time_step, input_size)\n",
    "    y = torch.from_numpy(y_np[np.newaxis, :, np.newaxis])\n",
    "    prediction,h_state=rnn(x,h_state)\n",
    "    h_state = h_state.data\n",
    "    loss = loss_func(prediction,y)\n",
    "    optimizer.zero_grad()\n",
    "    loss.backward()\n",
    "    optimizer.step()\n",
    "    if step%10==0:\n",
    "        print(loss.data.numpy())"
   ]
  },
  {
   "cell_type": "code",
   "execution_count": null,
   "metadata": {},
   "outputs": [],
   "source": []
  }
 ],
 "metadata": {
  "kernelspec": {
   "display_name": "Python 3",
   "language": "python",
   "name": "python3"
  },
  "language_info": {
   "codemirror_mode": {
    "name": "ipython",
    "version": 3
   },
   "file_extension": ".py",
   "mimetype": "text/x-python",
   "name": "python",
   "nbconvert_exporter": "python",
   "pygments_lexer": "ipython3",
   "version": "3.6.5"
  }
 },
 "nbformat": 4,
 "nbformat_minor": 2
}
