{
 "cells": [
  {
   "cell_type": "code",
   "execution_count": 1,
   "metadata": {},
   "outputs": [],
   "source": [
    "import torch\n",
    "import torch.nn as nn\n",
    "from torch.autograd import Variable\n",
    "import torch.utils.data as Data\n",
    "import torchvision\n",
    "import matplotlib.pyplot as plt"
   ]
  },
  {
   "cell_type": "code",
   "execution_count": 2,
   "metadata": {},
   "outputs": [],
   "source": [
    "#Hyper Parameters\n",
    "EPOCH = 2\n",
    "BATCH_SIZE = 50\n",
    "LR = 0.001\n",
    "DOWNLOAD_MNISIT = False\n",
    "train_data = torchvision.datasets.MNIST(\n",
    "    root ='./mnist',\n",
    "    train =True,\n",
    "    transform = torchvision.transforms.ToTensor(),\n",
    "    download = DOWNLOAD_MNISIT\n",
    ")"
   ]
  },
  {
   "cell_type": "code",
   "execution_count": 27,
   "metadata": {},
   "outputs": [
    {
     "name": "stdout",
     "output_type": "stream",
     "text": [
      "torch.Size([10000, 28, 28])\n"
     ]
    }
   ],
   "source": [
    "train_loader = Data.DataLoader(dataset=train_data,batch_size=BATCH_SIZE,\n",
    "                              shuffle=True)\n",
    "test_data = torchvision.datasets.MNIST(root='./mnist',train=False)\n",
    "print(test_data.test_data.shape)\n",
    "    "
   ]
  },
  {
   "cell_type": "code",
   "execution_count": 26,
   "metadata": {},
   "outputs": [
    {
     "name": "stdout",
     "output_type": "stream",
     "text": [
      "2000\n",
      "2000\n"
     ]
    }
   ],
   "source": [
    "test_x = torch.unsqueeze(test_data.test_data,dim=1).type(torch.FloatTensor)[:2000]/255\n",
    "print(test_x.size(0))\n",
    "test_y = test_data.test_labels[:2000]\n",
    "print(test_y.shape[0])"
   ]
  },
  {
   "cell_type": "code",
   "execution_count": 5,
   "metadata": {},
   "outputs": [
    {
     "name": "stdout",
     "output_type": "stream",
     "text": [
      "CNN(\n",
      "  (conv1): Sequential(\n",
      "    (0): Conv2d(1, 16, kernel_size=(5, 5), stride=(1, 1), padding=(2, 2))\n",
      "    (1): ReLU()\n",
      "    (2): MaxPool2d(kernel_size=2, stride=2, padding=0, dilation=1, ceil_mode=False)\n",
      "  )\n",
      "  (conv2): Sequential(\n",
      "    (0): Conv2d(16, 32, kernel_size=(5, 5), stride=(1, 1), padding=(2, 2))\n",
      "    (1): ReLU()\n",
      "    (2): MaxPool2d(kernel_size=2, stride=2, padding=0, dilation=1, ceil_mode=False)\n",
      "  )\n",
      "  (out): Linear(in_features=1568, out_features=10, bias=True)\n",
      ")\n"
     ]
    }
   ],
   "source": [
    "class CNN(nn.Module):\n",
    "    def __init__(self):\n",
    "        super(CNN,self).__init__()\n",
    "        self.conv1 = nn.Sequential(\n",
    "            nn.Conv2d(\n",
    "                in_channels=1, #input shape [1,28,28]\n",
    "                out_channels=16, #output shape [16,28,28]\n",
    "                kernel_size = 5,\n",
    "                stride=1,\n",
    "                padding=2, #if stride=1 padding=(kernelsize-1)/2\n",
    "            ),#output [16,28,28]\n",
    "            nn.ReLU(),\n",
    "            nn.MaxPool2d(kernel_size=2) #[16,14,14]\n",
    "        )\n",
    "        self.conv2 = nn.Sequential(\n",
    "            nn.Conv2d(16,32,5,1,2), #output [32,14,14]\n",
    "            nn.ReLU(),\n",
    "            nn.MaxPool2d(2)\n",
    "        ) #output shape[32,7,7]\n",
    "        self.out = nn.Linear(32*7*7,10) \n",
    "        \n",
    "    def forward(self,x):\n",
    "        x = self.conv1(x)\n",
    "        x = self.conv2(x)\n",
    "        x = x.view(x.size(0),-1)  # 展平多维的卷积图成 (batch_size, 32 * 7 * 7)\n",
    "        output = self.out(x)\n",
    "        return output\n",
    "cnn = CNN()\n",
    "cnn.cuda()\n",
    "print(cnn)"
   ]
  },
  {
   "cell_type": "code",
   "execution_count": 21,
   "metadata": {},
   "outputs": [
    {
     "name": "stdout",
     "output_type": "stream",
     "text": [
      "Epoch: 0 step: 0 | train loss: 0.006175763 | test accuracy: 0.9835\n",
      "Epoch: 0 step: 50 | train loss: 0.0056405347 | test accuracy: 0.9835\n",
      "Epoch: 0 step: 100 | train loss: 0.004600246 | test accuracy: 0.9815\n",
      "Epoch: 0 step: 150 | train loss: 0.0030800218 | test accuracy: 0.984\n",
      "Epoch: 0 step: 200 | train loss: 0.0122226365 | test accuracy: 0.9875\n",
      "Epoch: 0 step: 250 | train loss: 0.008396037 | test accuracy: 0.988\n",
      "Epoch: 0 step: 300 | train loss: 0.054125234 | test accuracy: 0.9815\n",
      "Epoch: 0 step: 350 | train loss: 0.0018380416 | test accuracy: 0.9865\n",
      "Epoch: 0 step: 400 | train loss: 0.0013653827 | test accuracy: 0.9855\n",
      "Epoch: 0 step: 450 | train loss: 0.053323504 | test accuracy: 0.985\n",
      "Epoch: 0 step: 500 | train loss: 0.011260573 | test accuracy: 0.9885\n",
      "Epoch: 0 step: 550 | train loss: 0.058980033 | test accuracy: 0.984\n",
      "Epoch: 0 step: 600 | train loss: 0.0011107755 | test accuracy: 0.987\n",
      "Epoch: 0 step: 650 | train loss: 0.036471914 | test accuracy: 0.987\n",
      "Epoch: 0 step: 700 | train loss: 0.02172104 | test accuracy: 0.983\n",
      "Epoch: 0 step: 750 | train loss: 0.0032550956 | test accuracy: 0.988\n",
      "Epoch: 0 step: 800 | train loss: 0.00080273626 | test accuracy: 0.986\n",
      "Epoch: 0 step: 850 | train loss: 0.0005049419 | test accuracy: 0.9865\n",
      "Epoch: 0 step: 900 | train loss: 0.0017525435 | test accuracy: 0.9885\n",
      "Epoch: 0 step: 950 | train loss: 0.020430809 | test accuracy: 0.986\n",
      "Epoch: 0 step: 1000 | train loss: 0.00039603232 | test accuracy: 0.9865\n",
      "Epoch: 0 step: 1050 | train loss: 0.0044428157 | test accuracy: 0.986\n",
      "Epoch: 0 step: 1100 | train loss: 0.011786368 | test accuracy: 0.986\n",
      "Epoch: 0 step: 1150 | train loss: 0.0091029955 | test accuracy: 0.9845\n",
      "Epoch: 1 step: 0 | train loss: 0.00083111523 | test accuracy: 0.9855\n",
      "Epoch: 1 step: 50 | train loss: 0.0011489368 | test accuracy: 0.989\n",
      "Epoch: 1 step: 100 | train loss: 0.018129842 | test accuracy: 0.988\n",
      "Epoch: 1 step: 150 | train loss: 0.018239135 | test accuracy: 0.987\n",
      "Epoch: 1 step: 200 | train loss: 0.027478814 | test accuracy: 0.985\n",
      "Epoch: 1 step: 250 | train loss: 0.007422572 | test accuracy: 0.9875\n",
      "Epoch: 1 step: 300 | train loss: 0.009742915 | test accuracy: 0.987\n",
      "Epoch: 1 step: 350 | train loss: 0.07396443 | test accuracy: 0.988\n",
      "Epoch: 1 step: 400 | train loss: 0.038804196 | test accuracy: 0.9845\n",
      "Epoch: 1 step: 450 | train loss: 0.0056177024 | test accuracy: 0.987\n",
      "Epoch: 1 step: 500 | train loss: 0.0063924426 | test accuracy: 0.985\n",
      "Epoch: 1 step: 550 | train loss: 0.0021663166 | test accuracy: 0.988\n",
      "Epoch: 1 step: 600 | train loss: 0.089489415 | test accuracy: 0.9835\n",
      "Epoch: 1 step: 650 | train loss: 0.00050545216 | test accuracy: 0.986\n",
      "Epoch: 1 step: 700 | train loss: 0.056054212 | test accuracy: 0.9845\n",
      "Epoch: 1 step: 750 | train loss: 0.009232429 | test accuracy: 0.983\n",
      "Epoch: 1 step: 800 | train loss: 0.0025016689 | test accuracy: 0.985\n",
      "Epoch: 1 step: 850 | train loss: 0.00063225743 | test accuracy: 0.989\n",
      "Epoch: 1 step: 900 | train loss: 0.0028408081 | test accuracy: 0.9865\n",
      "Epoch: 1 step: 950 | train loss: 0.0006282176 | test accuracy: 0.986\n",
      "Epoch: 1 step: 1000 | train loss: 0.00051532744 | test accuracy: 0.9865\n",
      "Epoch: 1 step: 1050 | train loss: 0.08301616 | test accuracy: 0.9825\n",
      "Epoch: 1 step: 1100 | train loss: 0.0039592315 | test accuracy: 0.99\n",
      "Epoch: 1 step: 1150 | train loss: 0.0021774787 | test accuracy: 0.987\n"
     ]
    }
   ],
   "source": [
    "optimizer = torch.optim.Adam(cnn.parameters(),lr=LR)\n",
    "loss_func = nn.CrossEntropyLoss()\n",
    "for epoch in range(EPOCH):\n",
    "    for step, (x, y) in enumerate(train_loader):   # 分配 batch data, normalize x when iterate train_loader\n",
    "        b_x=x.cuda() #[50,1,28,28]\n",
    "        b_y=y.cuda() #[50]\n",
    "        output = cnn(b_x)               # cnn output\n",
    "        loss = loss_func(output, b_y)   # cross entropy loss\n",
    "        optimizer.zero_grad()           # clear gradients for this training step\n",
    "        loss.backward()                 # backpropagation, compute gradients\n",
    "        optimizer.step()  \n",
    "        test_x=test_x.cuda() #[2000,1,28,28]\n",
    "        test_y=test_y.cuda() #[2000]\n",
    "        if step%50==0:\n",
    "            test_ouput = cnn(test_x)\n",
    "            pred_y = torch.max(test_ouput,1)[1].cuda().data.squeeze()\n",
    "            accuracy = sum(pred_y.cpu().numpy()==test_y.cpu().numpy())/test_y.size(0)\n",
    "            print('Epoch:',epoch,'step:',step,'| train loss:',loss.data.cpu().numpy(),\n",
    "                 '| test accuracy:',accuracy\n",
    "                 )"
   ]
  },
  {
   "cell_type": "code",
   "execution_count": 28,
   "metadata": {},
   "outputs": [
    {
     "ename": "NameError",
     "evalue": "name 'cnn' is not defined",
     "output_type": "error",
     "traceback": [
      "\u001b[1;31m---------------------------------------------------------------------------\u001b[0m",
      "\u001b[1;31mNameError\u001b[0m                                 Traceback (most recent call last)",
      "\u001b[1;32m<ipython-input-28-e5b3392f7d0f>\u001b[0m in \u001b[0;36m<module>\u001b[1;34m()\u001b[0m\n\u001b[1;32m----> 1\u001b[1;33m \u001b[0mtest_output\u001b[0m \u001b[1;33m=\u001b[0m \u001b[0mcnn\u001b[0m\u001b[1;33m(\u001b[0m\u001b[0mtest_x\u001b[0m\u001b[1;33m[\u001b[0m\u001b[1;33m:\u001b[0m\u001b[1;36m10\u001b[0m\u001b[1;33m]\u001b[0m\u001b[1;33m)\u001b[0m\u001b[1;33m\u001b[0m\u001b[0m\n\u001b[0m\u001b[0;32m      2\u001b[0m \u001b[0mpred_y\u001b[0m \u001b[1;33m=\u001b[0m \u001b[0mtorch\u001b[0m\u001b[1;33m.\u001b[0m\u001b[0mmax\u001b[0m\u001b[1;33m(\u001b[0m\u001b[0mtest_output\u001b[0m\u001b[1;33m,\u001b[0m \u001b[1;36m1\u001b[0m\u001b[1;33m)\u001b[0m\u001b[1;33m[\u001b[0m\u001b[1;36m1\u001b[0m\u001b[1;33m]\u001b[0m\u001b[1;31m#.data.squeeze()\u001b[0m\u001b[1;33m\u001b[0m\u001b[0m\n\u001b[0;32m      3\u001b[0m \u001b[0mprint\u001b[0m\u001b[1;33m(\u001b[0m\u001b[0mpred_y\u001b[0m\u001b[1;33m.\u001b[0m\u001b[0mcpu\u001b[0m\u001b[1;33m(\u001b[0m\u001b[1;33m)\u001b[0m\u001b[1;33m.\u001b[0m\u001b[0mnumpy\u001b[0m\u001b[1;33m(\u001b[0m\u001b[1;33m)\u001b[0m\u001b[1;33m,\u001b[0m \u001b[1;34m'prediction number'\u001b[0m\u001b[1;33m)\u001b[0m\u001b[1;33m\u001b[0m\u001b[0m\n\u001b[0;32m      4\u001b[0m \u001b[0mprint\u001b[0m\u001b[1;33m(\u001b[0m\u001b[0mtest_y\u001b[0m\u001b[1;33m[\u001b[0m\u001b[1;33m:\u001b[0m\u001b[1;36m10\u001b[0m\u001b[1;33m]\u001b[0m\u001b[1;33m.\u001b[0m\u001b[0mcpu\u001b[0m\u001b[1;33m(\u001b[0m\u001b[1;33m)\u001b[0m\u001b[1;33m.\u001b[0m\u001b[0mnumpy\u001b[0m\u001b[1;33m(\u001b[0m\u001b[1;33m)\u001b[0m\u001b[1;33m,\u001b[0m \u001b[1;34m'real number'\u001b[0m\u001b[1;33m)\u001b[0m\u001b[1;33m\u001b[0m\u001b[0m\n",
      "\u001b[1;31mNameError\u001b[0m: name 'cnn' is not defined"
     ]
    }
   ],
   "source": [
    "test_output = cnn(test_x[:10])\n",
    "pred_y = torch.max(test_output, 1)[1]#.data.squeeze()\n",
    "print(pred_y.cpu().numpy(), 'prediction number')\n",
    "print(test_y[:10].cpu().numpy(), 'real number')\n"
   ]
  },
  {
   "cell_type": "markdown",
   "metadata": {},
   "source": [
    "在x y后加.cuda()\n",
    "但是GPU的tensor不能numpy()\n",
    "需要转成cpu后在numpy()"
   ]
  },
  {
   "cell_type": "code",
   "execution_count": null,
   "metadata": {},
   "outputs": [],
   "source": []
  }
 ],
 "metadata": {
  "kernelspec": {
   "display_name": "Python 3",
   "language": "python",
   "name": "python3"
  },
  "language_info": {
   "codemirror_mode": {
    "name": "ipython",
    "version": 3
   },
   "file_extension": ".py",
   "mimetype": "text/x-python",
   "name": "python",
   "nbconvert_exporter": "python",
   "pygments_lexer": "ipython3",
   "version": "3.6.5"
  }
 },
 "nbformat": 4,
 "nbformat_minor": 2
}
