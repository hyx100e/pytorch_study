{
 "cells": [
  {
   "cell_type": "code",
   "execution_count": 1,
   "metadata": {},
   "outputs": [],
   "source": [
    "import torch\n",
    "import torch.nn as nn\n",
    "import torch.utils.data as Data\n",
    "import torchvision"
   ]
  },
  {
   "cell_type": "code",
   "execution_count": 2,
   "metadata": {},
   "outputs": [],
   "source": [
    "EPOCH = 1\n",
    "BATCH_SIZE = 50\n",
    "LR = 0.001\n",
    "DOWNLOAD_MINST = False\n",
    "train_data = torchvision.datasets.MNIST(\n",
    "    root = './mnist/',\n",
    "    train = True,\n",
    "    transform = torchvision.transforms.ToTensor(),\n",
    "    download = DOWNLOAD_MINST\n",
    ")"
   ]
  },
  {
   "cell_type": "code",
   "execution_count": 3,
   "metadata": {},
   "outputs": [],
   "source": [
    "train_loader = Data.DataLoader(dataset=train_data,batch_size=BATCH_SIZE,shuffle=True)\n",
    "test_data = torchvision.datasets.MNIST(root='./mnist/',train=False)"
   ]
  },
  {
   "cell_type": "code",
   "execution_count": 15,
   "metadata": {},
   "outputs": [],
   "source": [
    "test_x=torch.unsqueeze(test_data.test_data,dim=1).type(torch.FloatTensor)[:2000]\n",
    "test_y=test_data.test_labels[:2000]\n",
    "test_loader = Data.DataLoader(dataset=test_data,batch_size=2000,shuffle=True)\n",
    "test_x = test_x.cuda()\n",
    "test_y = test_y.cuda()"
   ]
  },
  {
   "cell_type": "code",
   "execution_count": 5,
   "metadata": {},
   "outputs": [
    {
     "name": "stdout",
     "output_type": "stream",
     "text": [
      "CNN(\n",
      "  (conv1): Sequential(\n",
      "    (0): Conv2d(1, 16, kernel_size=(5, 5), stride=(1, 1), padding=(2, 2))\n",
      "    (1): ReLU()\n",
      "    (2): MaxPool2d(kernel_size=2, stride=2, padding=0, dilation=1, ceil_mode=False)\n",
      "  )\n",
      "  (conv2): Sequential(\n",
      "    (0): Conv2d(16, 32, kernel_size=(5, 5), stride=(1, 1), padding=(2, 2))\n",
      "    (1): ReLU()\n",
      "    (2): MaxPool2d(kernel_size=2, stride=2, padding=0, dilation=1, ceil_mode=False)\n",
      "  )\n",
      "  (out): Linear(in_features=1568, out_features=10, bias=True)\n",
      ")\n"
     ]
    }
   ],
   "source": [
    "class CNN(nn.Module):\n",
    "    def __init__(self):\n",
    "        super(CNN,self).__init__()\n",
    "        self.conv1 = nn.Sequential(\n",
    "            nn.Conv2d(1,16,5,1,2),#[1,28,28] => [16,28,28]\n",
    "            nn.ReLU(),\n",
    "            nn.MaxPool2d(2) #[16,14,14]\n",
    "        )\n",
    "        self.conv2 = nn.Sequential(\n",
    "            nn.Conv2d(16,32,5,1,2),#[16,14,14] => [32,14,14]\n",
    "            nn.ReLU(),\n",
    "            nn.MaxPool2d(2) #[32,7,7]\n",
    "        )\n",
    "        self.out = nn.Linear(32*7*7,10)\n",
    "    \n",
    "    def forward(self,x):\n",
    "        x = self.conv1(x)\n",
    "        x = self.conv2(x)\n",
    "        x = x.view(x.size(0),-1)\n",
    "        output = self.out(x)\n",
    "        return output\n",
    "cnn =CNN()\n",
    "cnn.cuda()\n",
    "print(cnn)"
   ]
  },
  {
   "cell_type": "code",
   "execution_count": 50,
   "metadata": {},
   "outputs": [
    {
     "name": "stdout",
     "output_type": "stream",
     "text": [
      "tensor([7, 2, 1,  ..., 3, 9, 5], device='cuda:0')\n",
      "Epoch: 0 step: 0 | train loss: 0.00020557403 | test accuracy: 0.987\n",
      "tensor([7, 2, 1,  ..., 3, 9, 5], device='cuda:0')\n",
      "Epoch: 0 step: 100 | train loss: 0.003673327 | test accuracy: 0.988\n",
      "tensor([7, 2, 1,  ..., 3, 9, 5], device='cuda:0')\n",
      "Epoch: 0 step: 200 | train loss: 0.00068756344 | test accuracy: 0.9875\n",
      "tensor([7, 2, 1,  ..., 3, 9, 5], device='cuda:0')\n",
      "Epoch: 0 step: 300 | train loss: 1.749754e-05 | test accuracy: 0.9835\n",
      "tensor([7, 2, 1,  ..., 3, 9, 5], device='cuda:0')\n",
      "Epoch: 0 step: 400 | train loss: 0.0021593166 | test accuracy: 0.986\n",
      "tensor([7, 2, 1,  ..., 3, 9, 5], device='cuda:0')\n",
      "Epoch: 0 step: 500 | train loss: 0.00012758971 | test accuracy: 0.987\n",
      "tensor([7, 2, 1,  ..., 3, 9, 5], device='cuda:0')\n",
      "Epoch: 0 step: 600 | train loss: 0.00066326855 | test accuracy: 0.9875\n",
      "tensor([7, 2, 1,  ..., 3, 9, 5], device='cuda:0')\n",
      "Epoch: 0 step: 700 | train loss: 0.0008010483 | test accuracy: 0.982\n",
      "tensor([7, 2, 1,  ..., 3, 9, 5], device='cuda:0')\n",
      "Epoch: 0 step: 800 | train loss: 0.0016430974 | test accuracy: 0.987\n",
      "tensor([7, 2, 1,  ..., 3, 9, 5], device='cuda:0')\n",
      "Epoch: 0 step: 900 | train loss: 0.00012936592 | test accuracy: 0.9875\n",
      "tensor([7, 2, 1,  ..., 3, 9, 5], device='cuda:0')\n",
      "Epoch: 0 step: 1000 | train loss: 0.005888703 | test accuracy: 0.986\n",
      "tensor([7, 2, 1,  ..., 3, 9, 5], device='cuda:0')\n",
      "Epoch: 0 step: 1100 | train loss: 0.00032301902 | test accuracy: 0.99\n"
     ]
    }
   ],
   "source": [
    "opt = torch.optim.Adam(cnn.parameters(),lr=LR)\n",
    "loss_func = nn.CrossEntropyLoss()\n",
    "for epoch in range(EPOCH):\n",
    "    for step,(x,y) in enumerate(train_loader):\n",
    "        b_x = x.cuda()\n",
    "        b_y = y.cuda()\n",
    "        output = cnn(b_x)\n",
    "        loss = loss_func(output,b_y)\n",
    "        opt.zero_grad()\n",
    "        loss.backward()\n",
    "        opt.step()\n",
    "        if step%100 == 0:\n",
    "            test_output = cnn(test_x)\n",
    "            print(torch.max((nn.functional.softmax(test_output,dim=1)),1)[1])\n",
    "            pred_y = torch.max(nn.functional.softmax(test_output,dim=1),1)[1]#.cuda().data.squeeze()\n",
    "            accuracy = sum(pred_y.cpu().numpy()==test_y.cpu().numpy())/test_y.size(0)\n",
    "            print('Epoch:',epoch,'step:',step,'| train loss:',loss.data.cpu().numpy(),\n",
    "                 '| test accuracy:',accuracy\n",
    "                 )"
   ]
  },
  {
   "cell_type": "code",
   "execution_count": 36,
   "metadata": {},
   "outputs": [],
   "source": [
    "import numpy as np"
   ]
  },
  {
   "cell_type": "code",
   "execution_count": 48,
   "metadata": {},
   "outputs": [
    {
     "data": {
      "text/plain": [
       "4"
      ]
     },
     "execution_count": 48,
     "metadata": {},
     "output_type": "execute_result"
    }
   ],
   "source": [
    "np.max(([[1,2,3,0],[4,1,2,1]]),1)[1]"
   ]
  },
  {
   "cell_type": "code",
   "execution_count": 54,
   "metadata": {},
   "outputs": [
    {
     "name": "stdout",
     "output_type": "stream",
     "text": [
      "[6 2 9 1 1 0 6 3 9 5] prediction number\n",
      "[6 2 9 1 1 0 6 3 9 5] real number\n"
     ]
    }
   ],
   "source": [
    "test_output = cnn(test_x[1990:2000])\n",
    "pred_y = torch.max(test_output, 1)[1]#.data.squeeze()\n",
    "print(pred_y.cpu().numpy(), 'prediction number')\n",
    "print(test_y[1990:2000].cpu().numpy(), 'real number')"
   ]
  },
  {
   "cell_type": "code",
   "execution_count": null,
   "metadata": {},
   "outputs": [],
   "source": []
  }
 ],
 "metadata": {
  "kernelspec": {
   "display_name": "Python 3",
   "language": "python",
   "name": "python3"
  },
  "language_info": {
   "codemirror_mode": {
    "name": "ipython",
    "version": 3
   },
   "file_extension": ".py",
   "mimetype": "text/x-python",
   "name": "python",
   "nbconvert_exporter": "python",
   "pygments_lexer": "ipython3",
   "version": "3.6.5"
  }
 },
 "nbformat": 4,
 "nbformat_minor": 2
}
