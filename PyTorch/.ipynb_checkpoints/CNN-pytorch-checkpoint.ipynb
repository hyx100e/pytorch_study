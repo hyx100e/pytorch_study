{
 "cells": [
  {
   "cell_type": "code",
   "execution_count": 1,
   "metadata": {},
   "outputs": [],
   "source": [
    "import torch\n",
    "import torch.nn as nn\n",
    "from torch.autograd import Variable\n",
    "import torch.utils.data as Data\n",
    "import torchvision\n",
    "import matplotlib.pyplot as plt"
   ]
  },
  {
   "cell_type": "code",
   "execution_count": 2,
   "metadata": {},
   "outputs": [],
   "source": [
    "#Hyper Parameters\n",
    "EPOCH = 2\n",
    "BATCH_SIZE = 50\n",
    "LR = 0.001\n",
    "DOWNLOAD_MNISIT = False\n",
    "train_data = torchvision.datasets.MNIST(\n",
    "    root ='./mnist',\n",
    "    train =True,\n",
    "    transform = torchvision.transforms.ToTensor(),\n",
    "    download = DOWNLOAD_MNISIT\n",
    ")"
   ]
  },
  {
   "cell_type": "code",
   "execution_count": 3,
   "metadata": {},
   "outputs": [],
   "source": [
    "train_loader = Data.DataLoader(dataset=train_data,batch_size=BATCH_SIZE,\n",
    "                              shuffle=True)\n",
    "test_data = torchvision.datasets.MNIST(root='./mnist',train=False)\n"
   ]
  },
  {
   "cell_type": "code",
   "execution_count": 4,
   "metadata": {},
   "outputs": [],
   "source": [
    "test_x = torch.unsqueeze(test_data.test_data,dim=1).type(torch.FloatTensor)[:2000]/255\n",
    "test_y = test_data.test_labels[:2000]"
   ]
  },
  {
   "cell_type": "code",
   "execution_count": 5,
   "metadata": {},
   "outputs": [
    {
     "name": "stdout",
     "output_type": "stream",
     "text": [
      "CNN(\n",
      "  (conv1): Sequential(\n",
      "    (0): Conv2d(1, 16, kernel_size=(5, 5), stride=(1, 1), padding=(2, 2))\n",
      "    (1): ReLU()\n",
      "    (2): MaxPool2d(kernel_size=2, stride=2, padding=0, dilation=1, ceil_mode=False)\n",
      "  )\n",
      "  (conv2): Sequential(\n",
      "    (0): Conv2d(16, 32, kernel_size=(5, 5), stride=(1, 1), padding=(2, 2))\n",
      "    (1): ReLU()\n",
      "    (2): MaxPool2d(kernel_size=2, stride=2, padding=0, dilation=1, ceil_mode=False)\n",
      "  )\n",
      "  (out): Linear(in_features=1568, out_features=10, bias=True)\n",
      ")\n"
     ]
    }
   ],
   "source": [
    "class CNN(nn.Module):\n",
    "    def __init__(self):\n",
    "        super(CNN,self).__init__()\n",
    "        self.conv1 = nn.Sequential(\n",
    "            nn.Conv2d(\n",
    "                in_channels=1,\n",
    "                out_channels=16,\n",
    "                kernel_size = 5,\n",
    "                stride=1,\n",
    "                padding=2, #if stride=1 padding=(kernelsize-1)/2\n",
    "            ),\n",
    "            nn.ReLU(),\n",
    "            nn.MaxPool2d(kernel_size=2)\n",
    "        )\n",
    "        self.conv2 = nn.Sequential(\n",
    "            nn.Conv2d(16,32,5,1,2),\n",
    "            nn.ReLU(),\n",
    "            nn.MaxPool2d(2)\n",
    "        )\n",
    "        self.out = nn.Linear(32*7*7,10)\n",
    "        \n",
    "    def forward(self,x):\n",
    "        x = self.conv1(x)\n",
    "        x = self.conv2(x)\n",
    "        x = x.view(x.size(0),-1)\n",
    "        output = self.out(x)\n",
    "        return output\n",
    "cnn = CNN()\n",
    "cnn.cuda()\n",
    "print(cnn)"
   ]
  },
  {
   "cell_type": "code",
   "execution_count": 20,
   "metadata": {},
   "outputs": [
    {
     "name": "stdout",
     "output_type": "stream",
     "text": [
      "Epoch: 0 step: 0 | train loss: 0.016519517 | test accuracy: 0.9805\n",
      "Epoch: 0 step: 50 | train loss: 0.0198123 | test accuracy: 0.984\n",
      "Epoch: 0 step: 100 | train loss: 0.0005470562 | test accuracy: 0.9835\n",
      "Epoch: 0 step: 150 | train loss: 0.00030086518 | test accuracy: 0.9885\n",
      "Epoch: 0 step: 200 | train loss: 0.0034549702 | test accuracy: 0.986\n",
      "Epoch: 0 step: 250 | train loss: 0.016798303 | test accuracy: 0.984\n",
      "Epoch: 0 step: 300 | train loss: 0.045307495 | test accuracy: 0.9845\n",
      "Epoch: 0 step: 350 | train loss: 0.012493629 | test accuracy: 0.984\n",
      "Epoch: 0 step: 400 | train loss: 0.0052492023 | test accuracy: 0.9875\n",
      "Epoch: 0 step: 450 | train loss: 0.0498538 | test accuracy: 0.988\n",
      "Epoch: 0 step: 500 | train loss: 0.003638916 | test accuracy: 0.9855\n",
      "Epoch: 0 step: 550 | train loss: 0.0020998276 | test accuracy: 0.9865\n",
      "Epoch: 0 step: 600 | train loss: 0.0052608526 | test accuracy: 0.988\n",
      "Epoch: 0 step: 650 | train loss: 0.01645299 | test accuracy: 0.9835\n",
      "Epoch: 0 step: 700 | train loss: 0.027777512 | test accuracy: 0.9845\n",
      "Epoch: 0 step: 750 | train loss: 0.001021781 | test accuracy: 0.9835\n",
      "Epoch: 0 step: 800 | train loss: 0.008951288 | test accuracy: 0.9845\n",
      "Epoch: 0 step: 850 | train loss: 0.16000319 | test accuracy: 0.985\n",
      "Epoch: 0 step: 900 | train loss: 0.002341082 | test accuracy: 0.985\n",
      "Epoch: 0 step: 950 | train loss: 0.041415595 | test accuracy: 0.985\n",
      "Epoch: 0 step: 1000 | train loss: 0.0014622831 | test accuracy: 0.985\n",
      "Epoch: 0 step: 1050 | train loss: 0.006815048 | test accuracy: 0.9835\n",
      "Epoch: 0 step: 1100 | train loss: 0.036520332 | test accuracy: 0.985\n",
      "Epoch: 0 step: 1150 | train loss: 0.17176268 | test accuracy: 0.9855\n"
     ]
    }
   ],
   "source": [
    "optimizer = torch.optim.Adam(cnn.parameters(),lr=LR)\n",
    "loss_func = nn.CrossEntropyLoss()\n",
    "for epoch in range(1):\n",
    "    for step, (x, y) in enumerate(train_loader):   # 分配 batch data, normalize x when iterate train_loader\n",
    "        b_x=x.cuda()\n",
    "        b_y=y.cuda()\n",
    "        output = cnn(b_x)               # cnn output\n",
    "        loss = loss_func(output, b_y)   # cross entropy loss\n",
    "        optimizer.zero_grad()           # clear gradients for this training step\n",
    "        loss.backward()                 # backpropagation, compute gradients\n",
    "        optimizer.step()  \n",
    "        test_x=test_x.cuda()\n",
    "        test_y=test_y.cuda()\n",
    "        if step%50==0:\n",
    "            test_ouput = cnn(test_x)\n",
    "            pred_y = torch.max(test_ouput,1)[1].cuda().data.squeeze()\n",
    "            accuracy = sum(pred_y.cpu().numpy()==test_y.cpu().numpy())/test_y.size(0)\n",
    "            print('Epoch:',epoch,'step:',step,'| train loss:',loss.data.cpu().numpy(),\n",
    "                 '| test accuracy:',accuracy\n",
    "                 )"
   ]
  },
  {
   "cell_type": "code",
   "execution_count": 18,
   "metadata": {},
   "outputs": [
    {
     "name": "stdout",
     "output_type": "stream",
     "text": [
      "[7 2 1 0 4 1 4 9 5 9] prediction number\n",
      "[7 2 1 0 4 1 4 9 5 9] real number\n"
     ]
    }
   ],
   "source": [
    "test_output = cnn(test_x[:10])\n",
    "pred_y = torch.max(test_output, 1)[1].data.squeeze()\n",
    "print(pred_y.cpu().numpy(), 'prediction number')\n",
    "print(test_y[:10].cpu().numpy(), 'real number')\n"
   ]
  },
  {
   "cell_type": "code",
   "execution_count": null,
   "metadata": {},
   "outputs": [],
   "source": []
  }
 ],
 "metadata": {
  "kernelspec": {
   "display_name": "Python 3",
   "language": "python",
   "name": "python3"
  },
  "language_info": {
   "codemirror_mode": {
    "name": "ipython",
    "version": 3
   },
   "file_extension": ".py",
   "mimetype": "text/x-python",
   "name": "python",
   "nbconvert_exporter": "python",
   "pygments_lexer": "ipython3",
   "version": "3.6.5"
  }
 },
 "nbformat": 4,
 "nbformat_minor": 2
}
